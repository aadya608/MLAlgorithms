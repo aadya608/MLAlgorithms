{
 "cells": [
  {
   "attachments": {},
   "cell_type": "markdown",
   "metadata": {},
   "source": [
    "<h2>Decision Tree </h2>"
   ]
  },
  {
   "attachments": {},
   "cell_type": "markdown",
   "metadata": {},
   "source": [
    "<p>\n",
    "A decision tree is a supervised machine learning algorithm <b>used for solving classification or regression problems.</b> \n",
    "\n",
    "It is a tree-like model in which the <b>internal nodes represent a feature or attribute<b>, and <b>the branches represent the decision rules or conditions based on which the classification or regression is done.</b> The <b>leaves of the tree represent the output or outcome.</b>"
   ]
  },
  {
   "attachments": {},
   "cell_type": "markdown",
   "metadata": {},
   "source": [
    "In the case of classification problems:\n",
    "\n",
    "<b> The internal node of the tree represents a test on a particular attribute\n",
    "\n",
    "The branches represent the different possible values of the attribute\n",
    "\n",
    "The leaves represent the class labels, which are assigned based on the outcome of the test. \n",
    "</b>\n",
    "</p>\n"
   ]
  },
  {
   "attachments": {},
   "cell_type": "markdown",
   "metadata": {},
   "source": [
    "<p>\n",
    "In case of regression problems:\n",
    "\n",
    "<b>The internal nodes represent the splitting criteria\n",
    "\n",
    "The leaves represent the predicted values of the target variable. </b>\n",
    "\n",
    "For example, in a decision tree for predicting the price of a house, the internal nodes may represent the attributes such as location, number of rooms, and square footage, and the leaves will represent the predicted price.\n",
    "\n",
    "<p>"
   ]
  },
  {
   "attachments": {},
   "cell_type": "markdown",
   "metadata": {},
   "source": [
    "<p>\n",
    "The decision tree algorithm works by recursively partitioning the data into smaller subsets based on the selected feature and test criteria. The algorithm selects the best feature and test criteria at each internal node based on some measure of impurity or information gain. The process continues until all the data points are classified or the desired level of accuracy is achieved.\n",
    "</p>"
   ]
  },
  {
   "attachments": {},
   "cell_type": "markdown",
   "metadata": {},
   "source": [
    "<p>Decision trees are popular because of their simplicity, interpretability, and ease of use. They can handle both categorical and numerical data and can be used for both classification and regression problems. However, decision trees may suffer from overfitting if not pruned properly, which can lead to poor generalization performance.\n",
    "</p>"
   ]
  },
  {
   "cell_type": "code",
   "execution_count": null,
   "metadata": {},
   "outputs": [],
   "source": [
    "\n"
   ]
  }
 ],
 "metadata": {
  "language_info": {
   "name": "python"
  },
  "orig_nbformat": 4
 },
 "nbformat": 4,
 "nbformat_minor": 2
}
